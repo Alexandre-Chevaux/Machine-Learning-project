{
 "cells": [
  {
   "cell_type": "markdown",
   "metadata": {},
   "source": [
    "## Jupyter Notebook pour le sujet Kaggle \"Bike Sharing Demand\""
   ]
  },
  {
   "cell_type": "markdown",
   "metadata": {},
   "source": [
    "## Alexandre Chevaux Matthieu Garrigue"
   ]
  },
  {
   "cell_type": "markdown",
   "metadata": {},
   "source": [
    "### Importation des bibliothèques"
   ]
  },
  {
   "cell_type": "code",
   "execution_count": 1,
   "metadata": {},
   "outputs": [],
   "source": [
    "import pandas as pd\n",
    "import sklearn as skl\n",
    "import sklearn.model_selection as skl_model_selection\n",
    "import sklearn.linear_model as skl_linear_mdl\n",
    "import sklearn.ensemble as skl_ensemble_mdl\n",
    "import sklearn.discriminant_analysis as skl_discriminant_analysis\n",
    "import sklearn.metrics as skl_metrics\n",
    "from sklearn.model_selection import cross_val_score\n",
    "from sklearn.tree import DecisionTreeClassifier\n",
    "from sklearn.svm import SVR\n",
    "import xgboost as xgb\n",
    "import seaborn as sns\n",
    "from statistics import mean \n",
    "import numpy as np\n",
    "from sklearn import preprocessing\n",
    "import matplotlib.pyplot as plt\n",
    "from scipy import stats\n",
    "from scipy.special import boxcox, inv_boxcox\n",
    "from pandas import Series\n",
    "from matplotlib import pyplot"
   ]
  },
  {
   "cell_type": "markdown",
   "metadata": {},
   "source": [
    "## Importation et description du dataset"
   ]
  },
  {
   "cell_type": "code",
   "execution_count": 4,
   "metadata": {},
   "outputs": [],
   "source": [
    "##Importation des fichiers\n",
    "df_bike_train = pd.read_csv(r\"train.csv\")\n",
    "df_bike_test = pd.read_csv(r\"test.csv\")\n",
    "df_bike_test[\"registered\"]=0\n",
    "df_bike_test[\"casual\"]=0\n",
    "df_bike_test[\"count\"]=0"
   ]
  },
  {
   "cell_type": "code",
   "execution_count": 5,
   "metadata": {},
   "outputs": [
    {
     "data": {
      "text/html": [
       "<div>\n",
       "<style scoped>\n",
       "    .dataframe tbody tr th:only-of-type {\n",
       "        vertical-align: middle;\n",
       "    }\n",
       "\n",
       "    .dataframe tbody tr th {\n",
       "        vertical-align: top;\n",
       "    }\n",
       "\n",
       "    .dataframe thead th {\n",
       "        text-align: right;\n",
       "    }\n",
       "</style>\n",
       "<table border=\"1\" class=\"dataframe\">\n",
       "  <thead>\n",
       "    <tr style=\"text-align: right;\">\n",
       "      <th></th>\n",
       "      <th>datetime</th>\n",
       "      <th>season</th>\n",
       "      <th>holiday</th>\n",
       "      <th>workingday</th>\n",
       "      <th>weather</th>\n",
       "      <th>temp</th>\n",
       "      <th>atemp</th>\n",
       "      <th>humidity</th>\n",
       "      <th>windspeed</th>\n",
       "      <th>casual</th>\n",
       "      <th>registered</th>\n",
       "      <th>count</th>\n",
       "    </tr>\n",
       "  </thead>\n",
       "  <tbody>\n",
       "    <tr>\n",
       "      <th>0</th>\n",
       "      <td>2011-01-01 00:00:00</td>\n",
       "      <td>1</td>\n",
       "      <td>0</td>\n",
       "      <td>0</td>\n",
       "      <td>1</td>\n",
       "      <td>9.84</td>\n",
       "      <td>14.395</td>\n",
       "      <td>81</td>\n",
       "      <td>0.0</td>\n",
       "      <td>3</td>\n",
       "      <td>13</td>\n",
       "      <td>16</td>\n",
       "    </tr>\n",
       "    <tr>\n",
       "      <th>1</th>\n",
       "      <td>2011-01-01 01:00:00</td>\n",
       "      <td>1</td>\n",
       "      <td>0</td>\n",
       "      <td>0</td>\n",
       "      <td>1</td>\n",
       "      <td>9.02</td>\n",
       "      <td>13.635</td>\n",
       "      <td>80</td>\n",
       "      <td>0.0</td>\n",
       "      <td>8</td>\n",
       "      <td>32</td>\n",
       "      <td>40</td>\n",
       "    </tr>\n",
       "    <tr>\n",
       "      <th>2</th>\n",
       "      <td>2011-01-01 02:00:00</td>\n",
       "      <td>1</td>\n",
       "      <td>0</td>\n",
       "      <td>0</td>\n",
       "      <td>1</td>\n",
       "      <td>9.02</td>\n",
       "      <td>13.635</td>\n",
       "      <td>80</td>\n",
       "      <td>0.0</td>\n",
       "      <td>5</td>\n",
       "      <td>27</td>\n",
       "      <td>32</td>\n",
       "    </tr>\n",
       "    <tr>\n",
       "      <th>3</th>\n",
       "      <td>2011-01-01 03:00:00</td>\n",
       "      <td>1</td>\n",
       "      <td>0</td>\n",
       "      <td>0</td>\n",
       "      <td>1</td>\n",
       "      <td>9.84</td>\n",
       "      <td>14.395</td>\n",
       "      <td>75</td>\n",
       "      <td>0.0</td>\n",
       "      <td>3</td>\n",
       "      <td>10</td>\n",
       "      <td>13</td>\n",
       "    </tr>\n",
       "    <tr>\n",
       "      <th>4</th>\n",
       "      <td>2011-01-01 04:00:00</td>\n",
       "      <td>1</td>\n",
       "      <td>0</td>\n",
       "      <td>0</td>\n",
       "      <td>1</td>\n",
       "      <td>9.84</td>\n",
       "      <td>14.395</td>\n",
       "      <td>75</td>\n",
       "      <td>0.0</td>\n",
       "      <td>0</td>\n",
       "      <td>1</td>\n",
       "      <td>1</td>\n",
       "    </tr>\n",
       "  </tbody>\n",
       "</table>\n",
       "</div>"
      ],
      "text/plain": [
       "              datetime  season  holiday  workingday  weather  temp   atemp  \\\n",
       "0  2011-01-01 00:00:00       1        0           0        1  9.84  14.395   \n",
       "1  2011-01-01 01:00:00       1        0           0        1  9.02  13.635   \n",
       "2  2011-01-01 02:00:00       1        0           0        1  9.02  13.635   \n",
       "3  2011-01-01 03:00:00       1        0           0        1  9.84  14.395   \n",
       "4  2011-01-01 04:00:00       1        0           0        1  9.84  14.395   \n",
       "\n",
       "   humidity  windspeed  casual  registered  count  \n",
       "0        81        0.0       3          13     16  \n",
       "1        80        0.0       8          32     40  \n",
       "2        80        0.0       5          27     32  \n",
       "3        75        0.0       3          10     13  \n",
       "4        75        0.0       0           1      1  "
      ]
     },
     "execution_count": 5,
     "metadata": {},
     "output_type": "execute_result"
    }
   ],
   "source": [
    "df_bike_train.head()"
   ]
  },
  {
   "cell_type": "markdown",
   "metadata": {},
   "source": [
    "## Analyse préalable des données"
   ]
  },
  {
   "cell_type": "code",
   "execution_count": 6,
   "metadata": {},
   "outputs": [
    {
     "data": {
      "text/plain": [
       "<matplotlib.axes._subplots.AxesSubplot at 0x205acd5acc0>"
      ]
     },
     "execution_count": 6,
     "metadata": {},
     "output_type": "execute_result"
    },
    {
     "data": {
      "image/png": "[encoded data removed]",
      "text/plain": [
       "<matplotlib.figure.Figure at 0x205a2d9a828>"
      ]
     },
     "metadata": {},
     "output_type": "display_data"
    }
   ],
   "source": [
    "df_bike_test[\"temp\"].hist(bins=3)"
   ]
  },
  {
   "cell_type": "code",
   "execution_count": 8,
   "metadata": {},
   "outputs": [
    {
     "name": "stdout",
     "output_type": "stream",
     "text": [
      "Corrélations entre temp et atemp:0.98\n"
     ]
    },
    {
     "data": {
      "image/png": "[encoded data removed]",
      "text/plain": [
       "<matplotlib.figure.Figure at 0x205ad007e10>"
      ]
     },
     "metadata": {},
     "output_type": "display_data"
    }
   ],
   "source": [
    "plt.plot(df_bike_train[\"temp\"],df_bike_train[\"atemp\"])\n",
    "plt.xlabel(\"temp\")\n",
    "plt.ylabel(\"atemp\")\n",
    "print(\"Corrélations entre temp et atemp:\" + str(round(df_bike_train[\"temp\"].corr(df_bike_train[\"atemp\"]),2)))"
   ]
  },
  {
   "cell_type": "code",
   "execution_count": 9,
   "metadata": {},
   "outputs": [],
   "source": [
    "df_combine = [df_bike_train, df_bike_test]"
   ]
  },
  {
   "cell_type": "code",
   "execution_count": 10,
   "metadata": {},
   "outputs": [
    {
     "data": {
      "image/png": "[encoded data removed]",
      "text/plain": [
       "<matplotlib.figure.Figure at 0x205ad05a048>"
      ]
     },
     "metadata": {},
     "output_type": "display_data"
    },
    {
     "data": {
      "image/png": "[encoded data removed]",
      "text/plain": [
       "<matplotlib.figure.Figure at 0x205ad05a828>"
      ]
     },
     "metadata": {},
     "output_type": "display_data"
    }
   ],
   "source": [
    "##Analyse de la varaible de sortie\n",
    "plt.hist(df_bike_train[\"count\"])\n",
    "plt.title(\"Histogramme des valeurs de count\")\n",
    "plt.show()\n",
    "\n",
    "\n",
    "sns.boxplot(df_combine[0]['count'])\n",
    "plt.title(\"Boîte à moustache de count\")\n",
    "plt.show()"
   ]
  },
  {
   "cell_type": "code",
   "execution_count": 11,
   "metadata": {},
   "outputs": [
    {
     "data": {
      "text/plain": [
       "Text(0,0.5,'Somme des vélos vendus')"
      ]
     },
     "execution_count": 11,
     "metadata": {},
     "output_type": "execute_result"
    },
    {
     "data": {
      "image/png": "[encoded data removed]",
      "text/plain": [
       "<matplotlib.figure.Figure at 0x205ad07d0b8>"
      ]
     },
     "metadata": {},
     "output_type": "display_data"
    }
   ],
   "source": [
    "df_bike_train[\"nbr_day\"]=1\n",
    "df_bike_train['Year'] = pd.DatetimeIndex(df_bike_train[\"datetime\"]).year\n",
    "df_bike_train['Month'] = pd.DatetimeIndex(df_bike_train[\"datetime\"]).month\n",
    "x=df_bike_train.groupby(['Year','Month']).sum()\n",
    "lst=[]\n",
    "for i in x[\"temp\"]:\n",
    "    lst.append(i)\n",
    "plt.plot(lst)\n",
    "plt.title(\"Evolution de la  températre en fonction du mois\")\n",
    "plt.xlabel(\"Mois\")\n",
    "plt.ylabel(\"Somme des vélos vendus\")\n",
    "\n"
   ]
  },
  {
   "cell_type": "markdown",
   "metadata": {},
   "source": [
    "### Suppression de la saisonnalité "
   ]
  },
  {
   "cell_type": "code",
   "execution_count": 13,
   "metadata": {},
   "outputs": [
    {
     "name": "stdout",
     "output_type": "stream",
     "text": [
      "Coefficients: [-3.06378331e-21  2.67114400e-17  4.17815112e-13 -5.82847541e-09\n",
      "  2.20189717e-05 -2.53237491e-02  2.39987762e+01]\n"
     ]
    },
    {
     "data": {
      "image/png": "[encoded data removed]",
      "text/plain": [
       "<matplotlib.figure.Figure at 0x205acf65208>"
      ]
     },
     "metadata": {},
     "output_type": "display_data"
    }
   ],
   "source": [
    "\n",
    "series = Series(df_bike_train[\"temp\"])\n",
    "# fit polynomial: x^2*b1 + x*b2 + ... + bn\n",
    "X = [i%(365*24) for i in range(0, len(series))]\n",
    "y = series.values\n",
    "degree = 6\n",
    "coef = np.polyfit(X, y, degree)\n",
    "print('Coefficients: %s' % coef)\n",
    "# create curve\n",
    "curve = list()\n",
    "for i in range(len(X)):\n",
    "    value = coef[-1]\n",
    "    for d in range(degree):\n",
    "        value += X[i]**(degree-d) * coef[d]\n",
    "    curve.append(value)\n",
    "\n",
    "# plot curve over original data\n",
    "pyplot.plot(series.values)\n",
    "pyplot.plot(curve, color='red', linewidth=3)\n",
    "pyplot.title(\"Estimation de la saisonnalité pour les températures\")\n",
    "pyplot.show()\n"
   ]
  },
  {
   "cell_type": "code",
   "execution_count": 14,
   "metadata": {},
   "outputs": [
    {
     "name": "stdout",
     "output_type": "stream",
     "text": [
      "Coefficients: [-3.06378331e-21  2.67114400e-17  4.17815112e-13 -5.82847541e-09\n",
      "  2.20189717e-05 -2.53237491e-02  2.39987762e+01]\n"
     ]
    },
    {
     "data": {
      "image/png": "[encoded data removed]",
      "text/plain": [
       "<matplotlib.figure.Figure at 0x205af22a048>"
      ]
     },
     "metadata": {},
     "output_type": "display_data"
    }
   ],
   "source": [
    "\n",
    "series = Series(df_bike_train[\"temp\"])\n",
    "# fit polynomial: x^2*b1 + x*b2 + ... + bn\n",
    "X = [i%(365*24) for i in range(0, len(series))]\n",
    "y = series.values\n",
    "degree = 6\n",
    "coef = np.polyfit(X, y, degree)\n",
    "print('Coefficients: %s' % coef)\n",
    "# create curve\n",
    "curve = list()\n",
    "for i in range(len(X)):\n",
    "\tvalue = coef[-1]\n",
    "\tfor d in range(degree):\n",
    "\t\tvalue += X[i]**(degree-d) * coef[d]\n",
    "\tcurve.append(value)\n",
    "# create seasonally adjusted\n",
    "values = series.values\n",
    "diff = list()\n",
    "for i in range(len(values)):\n",
    "\tvalue = values[i] - curve[i]\n",
    "\tdiff.append(value)\n",
    "pyplot.plot(diff)\n",
    "pyplot.title(\"Ajustement de la saisonnalité\")\n",
    "pyplot.show()"
   ]
  },
  {
   "cell_type": "code",
   "execution_count": 15,
   "metadata": {},
   "outputs": [
    {
     "data": {
      "text/plain": [
       "Text(0,0.5,'Somme des vélos vendus')"
      ]
     },
     "execution_count": 15,
     "metadata": {},
     "output_type": "execute_result"
    },
    {
     "data": {
      "image/png": "[encoded data removed]",
      "text/plain": [
       "<matplotlib.figure.Figure at 0x205acf0d908>"
      ]
     },
     "metadata": {},
     "output_type": "display_data"
    }
   ],
   "source": [
    "df_bike_train[\"nbr_day\"]=1\n",
    "df_bike_train['Hour'] = pd.DatetimeIndex(df_bike_train[\"datetime\"]).hour\n",
    "x=df_bike_train.groupby(['Hour']).sum()\n",
    "lst=[]\n",
    "for i in x[\"count\"]:\n",
    "    lst.append(i)\n",
    " \n",
    "plt.plot(lst)\n",
    "plt.title(\"Evolution du nombre de vélos vendus en fonction de l'heure\")\n",
    "plt.xlabel(\"Heure\")\n",
    "plt.ylabel(\"Somme des vélos vendus\")\n"
   ]
  },
  {
   "cell_type": "code",
   "execution_count": 16,
   "metadata": {},
   "outputs": [
    {
     "data": {
      "text/plain": [
       "[Text(0,0.5,'Count'),\n",
       " Text(0.5,0,'Hour Of The Day'),\n",
       " Text(0.5,1,'vélos loués en fonction des heures du jour')]"
      ]
     },
     "execution_count": 16,
     "metadata": {},
     "output_type": "execute_result"
    },
    {
     "data": {
      "image/png": "[encoded data removed]",
      "text/plain": [
       "<matplotlib.figure.Figure at 0x205af188710>"
      ]
     },
     "metadata": {},
     "output_type": "display_data"
    }
   ],
   "source": [
    "#Boite à moustache des vélos loués en fonction des heures du jours:\n",
    "import seaborn as sn\n",
    "sn.boxplot(x=df_bike_train['Hour'],y=\"count\",data=df_bike_train,orient=\"v\").set(xlabel='Hour Of The Day', ylabel='Count',title=\"vélos loués en fonction des heures du jour\")\n",
    "#sns.swarmplot(x=df_bike_train['Hour'], y=\"count\", data=df_bike_train, color=\".25\")"
   ]
  },
  {
   "cell_type": "code",
   "execution_count": 17,
   "metadata": {},
   "outputs": [
    {
     "data": {
      "text/plain": [
       "[Text(13.175,0.5,'Count'),\n",
       " Text(0.5,-10.2,'Hour Of The Day'),\n",
       " Text(0.5,1,'occasionnels')]"
      ]
     },
     "execution_count": 17,
     "metadata": {},
     "output_type": "execute_result"
    },
    {
     "data": {
      "image/png": "[encoded data removed]",
      "text/plain": [
       "<matplotlib.figure.Figure at 0x205b070bc18>"
      ]
     },
     "metadata": {},
     "output_type": "display_data"
    }
   ],
   "source": [
    "# boite à moustache en distinguant les individus inscrits des individus non inscrits\n",
    "#fig = plt.subplots(nrows=1,ncols=2)\n",
    "#fig.set_size_inches(12, 10)\n",
    "plt.subplot(2,1,1)\n",
    "plt.tight_layout()\n",
    "sn.boxplot(x=df_bike_train['Hour'],y=\"registered\",data=df_bike_train,orient=\"v\").set(xlabel='Hour Of The Day', ylabel='Count',title=\"inscrits\")\n",
    "plt.subplot(2,1,2)\n",
    "plt.tight_layout()\n",
    "sn.boxplot(x=df_bike_train['Hour'],y=\"casual\",data=df_bike_train,orient=\"v\").set(xlabel='Hour Of The Day', ylabel='Count',title=\"occasionnels\")"
   ]
  },
  {
   "cell_type": "markdown",
   "metadata": {},
   "source": [
    "## Features Engineering"
   ]
  },
  {
   "cell_type": "code",
   "execution_count": 18,
   "metadata": {},
   "outputs": [],
   "source": [
    "#features engineering\n",
    "from sklearn import preprocessing\n",
    "df_bike_train = pd.read_csv(r\"train.csv\")\n",
    "df_bike_test = pd.read_csv(r\"test.csv\")\n",
    "df_bike_test[\"registered\"]=0\n",
    "df_bike_test[\"casual\"]=0\n",
    "df_bike_test[\"count\"]=0\n",
    "df_combine = [df_bike_train, df_bike_test]\n",
    "\n",
    "i=0\n",
    "for df_bike_sharing in df_combine:\n",
    "    #df_bike_sharing.drop(columns=\"atemp\")\n",
    "    if i==0:\n",
    "        df_bike_sharing['count']=df_bike_sharing['count'].apply(lambda x:np.log(x))\n",
    "        df_bike_sharing['registered']=df_bike_sharing['registered'].apply(lambda x:np.log(x+1)) #+1 pour négocier les valeures nulles\n",
    "        df_bike_sharing['casual']=df_bike_sharing['casual'].apply(lambda x:np.log(x+1)) #+1 pour négocier les valeurs nulles\n",
    "        #train_df['count']=boxcox(train_df['count'])[0]\n",
    "    #df_bike_sharing[\"Year\"]=0\n",
    "    #print(df_bike_sharing.head())\n",
    "    df_bike_sharing['Year'] = pd.DatetimeIndex(df_bike_sharing[\"datetime\"]).year\n",
    "    df_bike_sharing['Month'] = pd.DatetimeIndex(df_bike_sharing[\"datetime\"]).month\n",
    "    df_bike_sharing['Wday'] = pd.DatetimeIndex(df_bike_sharing[\"datetime\"]).weekday\n",
    "    df_bike_sharing['Week'] = pd.DatetimeIndex(df_bike_sharing[\"datetime\"]).week\n",
    "    df_bike_sharing['Day'] = pd.DatetimeIndex(df_bike_sharing[\"datetime\"]).day\n",
    "    df_bike_sharing[\"Hour\"]= pd.DatetimeIndex(df_bike_sharing[\"datetime\"]).hour\n",
    "    \n",
    "    \"\"\"\n",
    "    df_bike_sharing['15h'] = np.where((df_bike_sharing['Hour']==15), 1, 0)*(np.where(df_bike_sharing['workingday']==1,0,1 ))\n",
    "    df_bike_sharing['16h']= np.where((df_bike_sharing['Hour']==16), 1, 0)*(np.where(df_bike_sharing['workingday']==1,0,1 ))\n",
    "    df_bike_sharing['14h']= np.where((df_bike_sharing['Hour']==14), 1, 0)*(np.where(df_bike_sharing['workingday']==1,0,1 ))\n",
    "    df_bike_sharing['Rush_Hour']=df_bike_sharing['15h']+df_bike_sharing['16h']+df_bike_sharing['14h']\n",
    "    df_bike_sharing.drop(['16h','15h','14h'], axis=1)\n",
    "    #print(df_bike_sharing['Rush_Hour'].head(50))\n",
    "    \"\"\"\n",
    "    df_bike_sharing = pd.get_dummies(df_bike_sharing, columns=['weather'])\n",
    "    df_bike_sharing = df_bike_sharing.drop(labels='weather_4', axis=1)\n",
    "    \n",
    "    \n",
    "    df_bike_sharing['temp_weath_1'] = df_bike_sharing['temp'] * df_bike_sharing['weather_1']\n",
    "    df_bike_sharing['temp_weath_2'] = df_bike_sharing['temp'] * df_bike_sharing['weather_2']\n",
    "    df_bike_sharing['temp_weath_3'] = df_bike_sharing['temp'] * df_bike_sharing['weather_3']\n",
    "    \n",
    "    \n",
    "    df_bike_sharing = pd.get_dummies(df_bike_sharing, columns=['holiday'])\n",
    "    #df_bike_sharing = pd.get_dummies(df_bike_sharing, columns=['workingday'])\n",
    "    df_bike_sharing = pd.get_dummies(df_bike_sharing, columns=['season'])\n",
    "    \n",
    "    \n",
    "    ###Code pour normaliser des colonnes mais on obtient un moins bon score Kaggle pour la RF regression\n",
    "    #column_names_to_normalize = ['humidity', 'atemp', 'temp']\n",
    "    \"\"\"\"\n",
    "    column_names_to_normalize = ['temp','humidity']\n",
    "    x = df_bike_sharing[column_names_to_normalize].values\n",
    "    min_max_scaler = preprocessing.MinMaxScaler()\n",
    "    x_scaled = min_max_scaler.fit_transform(x)\n",
    "    df_temp = pd.DataFrame(x_scaled, columns=column_names_to_normalize, index = df_bike_sharing.index)\n",
    "    df_bike_sharing[column_names_to_normalize] = df_temp\n",
    "    \"\"\"\n",
    "    ###Création de dummies pour les colonnes de float\n",
    "    \"\"\"\n",
    "    cpt_row=0\n",
    "    for row_bike_sharing in df_bike_sharing[\"humidity\"]:\n",
    "        if row_bike_sharing==0 :\n",
    "                df_bike_sharing.loc[[cpt_row], ['humidity']]=0\n",
    "        if row_bike_sharing<45 and row_bike_sharing!=0 :\n",
    "                df_bike_sharing.loc[[cpt_row], ['humidity']]=1\n",
    "        if row_bike_sharing<60 and row_bike_sharing>=45 :\n",
    "                df_bike_sharing.loc[[cpt_row], ['humidity']]=2\n",
    "        if row_bike_sharing>=60 :\n",
    "                df_bike_sharing.loc[[cpt_row], ['humidity']]=3\n",
    "        cpt_row=cpt_row+1\n",
    "        \n",
    "    cpt_row=0\n",
    "    for row_bike_sharing in df_bike_sharing[\"atemp\"]:\n",
    "        if row_bike_sharing<19 :\n",
    "                df_bike_sharing.loc[[cpt_row], ['atemp']]=0\n",
    "        if row_bike_sharing<32 and row_bike_sharing>=19 :\n",
    "                df_bike_sharing.loc[[cpt_row], ['atemp']]=1\n",
    "        if row_bike_sharing>=32 :\n",
    "                df_bike_sharing.loc[[cpt_row], ['atemp']]=2\n",
    "        cpt_row=cpt_row+1\n",
    "    \n",
    "    cpt_row=0\n",
    "    for row_bike_sharing in df_bike_sharing[\"temp\"]:\n",
    "        if row_bike_sharing<15 :\n",
    "                df_bike_sharing.loc[[cpt_row], ['temp']]=0\n",
    "        if row_bike_sharing<26 and row_bike_sharing>=15 :\n",
    "                df_bike_sharing.loc[[cpt_row], ['temp']]=1\n",
    "        if row_bike_sharing>=26 :\n",
    "                df_bike_sharing.loc[[cpt_row], ['temp']]=2\n",
    "        cpt_row=cpt_row+1\n",
    "\n",
    "    df_bike_sharing = pd.get_dummies(df_bike_sharing, columns=['humidity'])\n",
    "    df_bike_sharing = pd.get_dummies(df_bike_sharing, columns=['atemp'])\n",
    "    df_bike_sharing = pd.get_dummies(df_bike_sharing, columns=['temp'])\n",
    "\n",
    "    \"\"\"\n",
    "    ##########################################\n",
    "\n",
    "    #partie engineering à utiliser si on fait le calcul en estimant les registered et les casuals\n",
    "    df_bike_sharing['daypart_registered']=Series(np.ones(len(df_bike_sharing)), index=df_bike_sharing.index, dtype=object)\n",
    "    df_bike_sharing['daypart_casual']=Series(np.ones(len(df_bike_sharing)), index=df_bike_sharing.index,dtype=object)\n",
    "\n",
    "    #Pour les individus enregistrés\n",
    "    df_bike_sharing.loc[(df_bike_sharing['Hour']>=22)  | (df_bike_sharing['Hour']==0),'daypart_registered']=0\n",
    "    df_bike_sharing.loc[(df_bike_sharing['Hour']>= 1)  & (df_bike_sharing['Hour']<=5),'daypart_registered']=1\n",
    "    df_bike_sharing.loc[(df_bike_sharing['Hour']==6) \n",
    "                        | ((df_bike_sharing['Hour']>=10) & (df_bike_sharing['Hour']<=15)) \n",
    "                        | (df_bike_sharing['Hour']==20) \n",
    "                        | (df_bike_sharing['Hour']==21)\n",
    "                       ,'daypart_registered']=2\n",
    "    df_bike_sharing.loc[(df_bike_sharing['Hour']==7),'daypart_registered']=3\n",
    "    df_bike_sharing.loc[(df_bike_sharing['Hour']==8),'daypart_registered']=4\n",
    "    df_bike_sharing.loc[(df_bike_sharing['Hour']==17)  | (df_bike_sharing['Hour']==18),'daypart_registered']=5\n",
    "    df_bike_sharing.loc[(df_bike_sharing['Hour']==9)  \n",
    "                        |(df_bike_sharing['Hour']==16)  \n",
    "                        | (df_bike_sharing['Hour']==19)\n",
    "                        ,'daypart_registered']=6\n",
    "\n",
    "    # Pour les occasionnels\n",
    "    df_bike_sharing.loc[(df_bike_sharing['Hour']>=23)  | (df_bike_sharing['Hour']<=7),'daypart_casual']=0\n",
    "    df_bike_sharing.loc[(df_bike_sharing['Hour']== 8) \n",
    "                        | (df_bike_sharing['Hour']==9)\n",
    "                        | (df_bike_sharing['Hour']==21)\n",
    "                        | (df_bike_sharing['Hour']==22)\n",
    "                    ,'daypart_casual']=1\n",
    "    df_bike_sharing.loc[(df_bike_sharing['Hour']>=10) & (df_bike_sharing['Hour']<=20),'daypart_casual']=2\n",
    "    #pd.Series(df_bike_sharing.daypart_registered, dtype='int32')\n",
    "    #pd.Series(df_bike_sharing.daypart_casual, dtype='int32')\n",
    "    ##########################################\n",
    " \n",
    "    series = Series(df_bike_sharing[\"temp\"])\n",
    "    # fit polynomial: x^2*b1 + x*b2 + ... + bn\n",
    "    X = [i%(365*24) for i in range(0, len(series))]\n",
    "    y = series.values\n",
    "    degree = 8\n",
    "    coef = np.polyfit(X, y, degree)\n",
    "    # create curve\n",
    "    curve = list()\n",
    "    for j in range(len(X)):\n",
    "        value = coef[-1]\n",
    "        for d in range(degree):\n",
    "            value += X[j]**(degree-d) * coef[d]\n",
    "        curve.append(value)\n",
    "    # create seasonally adjusted\n",
    "    values = series.values\n",
    "    diff = list()\n",
    "    for j in range(len(values)):\n",
    "        value = values[j] - curve[j]\n",
    "        diff.append(value)\n",
    "    df_bike_sharing[\"temp\"]=diff\n",
    "\n",
    "    df_combine[i]=df_bike_sharing\n",
    "    i=1\n",
    "    \n",
    "\n",
    "\n"
   ]
  },
  {
   "cell_type": "markdown",
   "metadata": {},
   "source": [
    "# Neural Networks"
   ]
  },
  {
   "cell_type": "code",
   "execution_count": 19,
   "metadata": {},
   "outputs": [],
   "source": [
    "X=df_combine[0]\n",
    "Y =df_combine[0][\"count\"]\n",
    "#on  définie les features qui vont être intéressants pour la prédiction\n",
    "features=X.columns.values\n",
    "features=list(features)\n",
    "features.remove(\"datetime\")\n",
    "features.remove(\"daypart_casual\")\n",
    "features.remove(\"daypart_registered\")\n",
    "features.remove(\"casual\")\n",
    "features.remove(\"registered\")\n",
    "features.remove(\"count\")\n",
    "\n",
    "X_train = df_combine[0]\n",
    "Y_train = df_combine[0][\"count\"]\n",
    "X_test = df_combine[1]\n",
    "X=X_train[features]\n",
    "Y=X_train['count']\n",
    "X_testNN=X_test[features]"
   ]
  },
  {
   "cell_type": "code",
   "execution_count": 20,
   "metadata": {},
   "outputs": [],
   "source": [
    "#split des données\n",
    "from sklearn.model_selection import train_test_split\n",
    "\n",
    "X_trainNN, X_validNN, Y_trainNN, Y_validNN = train_test_split(X, Y, test_size=0.10, random_state=1)"
   ]
  },
  {
   "cell_type": "code",
   "execution_count": 21,
   "metadata": {},
   "outputs": [
    {
     "name": "stdout",
     "output_type": "stream",
     "text": [
      "['workingday', 'temp', 'atemp', 'humidity', 'windspeed', 'Year', 'Month', 'Wday', 'Week', 'Day', 'Hour', 'weather_1', 'weather_2', 'weather_3', 'temp_weath_1', 'temp_weath_2', 'temp_weath_3', 'holiday_0', 'holiday_1', 'season_1', 'season_2', 'season_3', 'season_4']\n"
     ]
    }
   ],
   "source": [
    "print(features)"
   ]
  },
  {
   "cell_type": "code",
   "execution_count": 22,
   "metadata": {},
   "outputs": [
    {
     "name": "stderr",
     "output_type": "stream",
     "text": [
      "C:\\Users\\Alexandre\\Anaconda3\\lib\\site-packages\\sklearn\\preprocessing\\data.py:323: DataConversionWarning: Data with input dtype uint8, int64, float64 were all converted to float64 by MinMaxScaler.\n",
      "  return self.partial_fit(X, y)\n",
      "C:\\Users\\Alexandre\\Anaconda3\\lib\\site-packages\\sklearn\\preprocessing\\data.py:323: DataConversionWarning: Data with input dtype uint8, int64, float64 were all converted to float64 by MinMaxScaler.\n",
      "  return self.partial_fit(X, y)\n",
      "C:\\Users\\Alexandre\\Anaconda3\\lib\\site-packages\\sklearn\\preprocessing\\data.py:323: DataConversionWarning: Data with input dtype uint8, int64, float64 were all converted to float64 by MinMaxScaler.\n",
      "  return self.partial_fit(X, y)\n"
     ]
    }
   ],
   "source": [
    "#normalisation:\n",
    "\n",
    "from sklearn.preprocessing import StandardScaler\n",
    "\n",
    "# Methode choisie pour normaliser: MinMax\n",
    "scaler = preprocessing.MinMaxScaler()\n",
    "\n",
    "# Normalise le train set\n",
    "X_trainNN = scaler.fit_transform(X_trainNN)\n",
    "\n",
    "# Normalise le validation set\n",
    "X_validNN = scaler.fit_transform(X_validNN)\n",
    "\n",
    "# Normalise le test set\n",
    "X_testNN = scaler.fit_transform(X_testNN)"
   ]
  },
  {
   "cell_type": "code",
   "execution_count": 23,
   "metadata": {},
   "outputs": [],
   "source": [
    "# Model parameters\n",
    "BATCH_SIZE = 16\n",
    "EPOCHS = 100\n",
    "LEARNING_RATE = 0.001"
   ]
  },
  {
   "cell_type": "markdown",
   "metadata": {},
   "source": [
    "### Modèle:"
   ]
  },
  {
   "cell_type": "code",
   "execution_count": 24,
   "metadata": {},
   "outputs": [
    {
     "name": "stderr",
     "output_type": "stream",
     "text": [
      "C:\\Users\\Alexandre\\Anaconda3\\lib\\site-packages\\h5py\\__init__.py:36: FutureWarning: Conversion of the second argument of issubdtype from `float` to `np.floating` is deprecated. In future, it will be treated as `np.float64 == np.dtype(float).type`.\n",
      "  from ._conv import register_converters as _register_converters\n",
      "Using TensorFlow backend.\n"
     ]
    }
   ],
   "source": [
    "from keras.models import Sequential\n",
    "\n",
    "from keras.layers import Dense,Dropout,Activation\n",
    "\n",
    "from keras import regularizers\n",
    "from keras.layers.normalization import BatchNormalization\n",
    "# Initialisation du modèle\n",
    "\n",
    "##Define neural network\n",
    "model = Sequential()\n",
    "model.add(Dense(200, activation='relu',input_dim=X_trainNN.shape[1])) #input layer\n",
    "model.add(Dropout(0.1))\n",
    "model.add(Dense(200, activation='relu')) #hidden layer\n",
    "model.add(Dropout(0.1))\n",
    "model.add(Dense(1))#outputlayer\n",
    "model.compile(loss='mse', optimizer='rmsprop', metrics=['mae'])"
   ]
  },
  {
   "cell_type": "markdown",
   "metadata": {},
   "source": [
    "### Exécution"
   ]
  },
  {
   "cell_type": "code",
   "execution_count": 25,
   "metadata": {},
   "outputs": [
    {
     "name": "stdout",
     "output_type": "stream",
     "text": [
      "_________________________________________________________________\n",
      "Layer (type)                 Output Shape              Param #   \n",
      "=================================================================\n",
      "dense_1 (Dense)              (None, 200)               4800      \n",
      "_________________________________________________________________\n",
      "dropout_1 (Dropout)          (None, 200)               0         \n",
      "_________________________________________________________________\n",
      "dense_2 (Dense)              (None, 200)               40200     \n",
      "_________________________________________________________________\n",
      "dropout_2 (Dropout)          (None, 200)               0         \n",
      "_________________________________________________________________\n",
      "dense_3 (Dense)              (None, 1)                 201       \n",
      "=================================================================\n",
      "Total params: 45,201\n",
      "Trainable params: 45,201\n",
      "Non-trainable params: 0\n",
      "_________________________________________________________________\n"
     ]
    }
   ],
   "source": [
    "model.summary()"
   ]
  },
  {
   "cell_type": "code",
   "execution_count": 26,
   "metadata": {},
   "outputs": [
    {
     "name": "stdout",
     "output_type": "stream",
     "text": [
      "Train on 9797 samples, validate on 1089 samples\n",
      "Epoch 1/100\n",
      "9797/9797 [==============================] - 5s 491us/step - loss: 1.4259 - mean_absolute_error: 0.9218 - val_loss: 1.5512 - val_mean_absolute_error: 0.9945\n",
      "Epoch 2/100\n",
      "9797/9797 [==============================] - 1s 143us/step - loss: 1.0754 - mean_absolute_error: 0.8049 - val_loss: 0.8456 - val_mean_absolute_error: 0.6968\n",
      "Epoch 3/100\n",
      "9797/9797 [==============================] - 1s 147us/step - loss: 0.9749 - mean_absolute_error: 0.7625 - val_loss: 0.7554 - val_mean_absolute_error: 0.6567\n",
      "Epoch 4/100\n",
      "9797/9797 [==============================] - 2s 169us/step - loss: 0.8864 - mean_absolute_error: 0.7241 - val_loss: 0.9141 - val_mean_absolute_error: 0.7630\n",
      "Epoch 5/100\n",
      "9797/9797 [==============================] - 2s 160us/step - loss: 0.7734 - mean_absolute_error: 0.6784 - val_loss: 1.0006 - val_mean_absolute_error: 0.8099\n",
      "Epoch 6/100\n",
      "9797/9797 [==============================] - 2s 166us/step - loss: 0.6390 - mean_absolute_error: 0.6214 - val_loss: 0.4698 - val_mean_absolute_error: 0.5085\n",
      "Epoch 7/100\n",
      "9797/9797 [==============================] - 1s 148us/step - loss: 0.5033 - mean_absolute_error: 0.5524 - val_loss: 0.6306 - val_mean_absolute_error: 0.6749\n",
      "Epoch 8/100\n",
      "9797/9797 [==============================] - 1s 139us/step - loss: 0.4096 - mean_absolute_error: 0.5049 - val_loss: 0.3506 - val_mean_absolute_error: 0.4360\n",
      "Epoch 9/100\n",
      "9797/9797 [==============================] - 1s 148us/step - loss: 0.3685 - mean_absolute_error: 0.4744 - val_loss: 0.2574 - val_mean_absolute_error: 0.3869\n",
      "Epoch 10/100\n",
      "9797/9797 [==============================] - 2s 158us/step - loss: 0.3516 - mean_absolute_error: 0.4641 - val_loss: 0.2175 - val_mean_absolute_error: 0.3495\n",
      "Epoch 11/100\n",
      "9797/9797 [==============================] - 2s 156us/step - loss: 0.3245 - mean_absolute_error: 0.4445 - val_loss: 0.2901 - val_mean_absolute_error: 0.4204\n",
      "Epoch 12/100\n",
      "9797/9797 [==============================] - 1s 149us/step - loss: 0.3079 - mean_absolute_error: 0.4336 - val_loss: 0.2557 - val_mean_absolute_error: 0.3883\n",
      "Epoch 13/100\n",
      "9797/9797 [==============================] - 1s 140us/step - loss: 0.3018 - mean_absolute_error: 0.4285 - val_loss: 0.2743 - val_mean_absolute_error: 0.4119\n",
      "Epoch 14/100\n",
      "9797/9797 [==============================] - 2s 159us/step - loss: 0.2882 - mean_absolute_error: 0.4165 - val_loss: 0.2766 - val_mean_absolute_error: 0.4146\n",
      "Epoch 15/100\n",
      "9797/9797 [==============================] - 2s 167us/step - loss: 0.2827 - mean_absolute_error: 0.4117 - val_loss: 0.2227 - val_mean_absolute_error: 0.3551\n",
      "Epoch 16/100\n",
      "9797/9797 [==============================] - 2s 160us/step - loss: 0.2730 - mean_absolute_error: 0.4040 - val_loss: 0.3365 - val_mean_absolute_error: 0.4803\n",
      "Epoch 17/100\n",
      "9797/9797 [==============================] - 2s 187us/step - loss: 0.2690 - mean_absolute_error: 0.3999 - val_loss: 0.5300 - val_mean_absolute_error: 0.6386\n",
      "Epoch 18/100\n",
      "9797/9797 [==============================] - 1s 145us/step - loss: 0.2620 - mean_absolute_error: 0.3962 - val_loss: 0.2703 - val_mean_absolute_error: 0.4170\n",
      "Epoch 19/100\n",
      "9797/9797 [==============================] - 1s 153us/step - loss: 0.2511 - mean_absolute_error: 0.3875 - val_loss: 0.2013 - val_mean_absolute_error: 0.3274\n",
      "Epoch 20/100\n",
      "9797/9797 [==============================] - 2s 167us/step - loss: 0.2426 - mean_absolute_error: 0.3787 - val_loss: 0.1907 - val_mean_absolute_error: 0.3288\n",
      "Epoch 21/100\n",
      "9797/9797 [==============================] - 2s 184us/step - loss: 0.2377 - mean_absolute_error: 0.3729 - val_loss: 0.1910 - val_mean_absolute_error: 0.3233\n",
      "Epoch 22/100\n",
      "9797/9797 [==============================] - 2s 197us/step - loss: 0.2345 - mean_absolute_error: 0.3728 - val_loss: 0.3403 - val_mean_absolute_error: 0.4848\n",
      "Epoch 23/100\n",
      "9797/9797 [==============================] - 2s 186us/step - loss: 0.2323 - mean_absolute_error: 0.3698 - val_loss: 0.2137 - val_mean_absolute_error: 0.3445\n",
      "Epoch 24/100\n",
      "9797/9797 [==============================] - 2s 200us/step - loss: 0.2248 - mean_absolute_error: 0.3616 - val_loss: 0.3440 - val_mean_absolute_error: 0.5029\n",
      "Epoch 25/100\n",
      "9797/9797 [==============================] - 2s 212us/step - loss: 0.2269 - mean_absolute_error: 0.3636 - val_loss: 0.2078 - val_mean_absolute_error: 0.3567\n",
      "Epoch 26/100\n",
      "9797/9797 [==============================] - 2s 182us/step - loss: 0.2210 - mean_absolute_error: 0.3590 - val_loss: 0.1623 - val_mean_absolute_error: 0.2907\n",
      "Epoch 27/100\n",
      "9797/9797 [==============================] - 2s 191us/step - loss: 0.2201 - mean_absolute_error: 0.3572 - val_loss: 0.1825 - val_mean_absolute_error: 0.3140\n",
      "Epoch 28/100\n",
      "9797/9797 [==============================] - 2s 215us/step - loss: 0.2079 - mean_absolute_error: 0.3463 - val_loss: 0.1947 - val_mean_absolute_error: 0.3256\n",
      "Epoch 29/100\n",
      "9797/9797 [==============================] - 2s 196us/step - loss: 0.2089 - mean_absolute_error: 0.3502 - val_loss: 0.1658 - val_mean_absolute_error: 0.2890\n",
      "Epoch 30/100\n",
      "9797/9797 [==============================] - 2s 218us/step - loss: 0.2057 - mean_absolute_error: 0.3468 - val_loss: 0.1733 - val_mean_absolute_error: 0.2993\n",
      "Epoch 31/100\n",
      "9797/9797 [==============================] - 2s 199us/step - loss: 0.2058 - mean_absolute_error: 0.3464 - val_loss: 0.1744 - val_mean_absolute_error: 0.2971\n",
      "Epoch 32/100\n",
      "9797/9797 [==============================] - 2s 185us/step - loss: 0.2027 - mean_absolute_error: 0.3435 - val_loss: 0.1721 - val_mean_absolute_error: 0.3011\n",
      "Epoch 33/100\n",
      "9797/9797 [==============================] - 2s 176us/step - loss: 0.2020 - mean_absolute_error: 0.3418 - val_loss: 0.1510 - val_mean_absolute_error: 0.2817\n",
      "Epoch 34/100\n",
      "9797/9797 [==============================] - 2s 167us/step - loss: 0.1993 - mean_absolute_error: 0.3398 - val_loss: 0.1995 - val_mean_absolute_error: 0.3373\n",
      "Epoch 35/100\n",
      "9797/9797 [==============================] - 2s 164us/step - loss: 0.1970 - mean_absolute_error: 0.3394 - val_loss: 0.1785 - val_mean_absolute_error: 0.3097\n",
      "Epoch 36/100\n",
      "9797/9797 [==============================] - 1s 145us/step - loss: 0.1910 - mean_absolute_error: 0.3318 - val_loss: 0.1551 - val_mean_absolute_error: 0.2881\n",
      "Epoch 37/100\n",
      "9797/9797 [==============================] - 1s 145us/step - loss: 0.1937 - mean_absolute_error: 0.3349 - val_loss: 0.2244 - val_mean_absolute_error: 0.3730\n",
      "Epoch 38/100\n",
      "9797/9797 [==============================] - 1s 145us/step - loss: 0.1911 - mean_absolute_error: 0.3321 - val_loss: 0.1655 - val_mean_absolute_error: 0.2977\n",
      "Epoch 39/100\n",
      "9797/9797 [==============================] - 1s 141us/step - loss: 0.1871 - mean_absolute_error: 0.3294 - val_loss: 0.1449 - val_mean_absolute_error: 0.2693\n",
      "Epoch 40/100\n",
      "9797/9797 [==============================] - 1s 143us/step - loss: 0.1839 - mean_absolute_error: 0.3258 - val_loss: 0.1560 - val_mean_absolute_error: 0.2880\n",
      "Epoch 41/100\n",
      "9797/9797 [==============================] - 1s 142us/step - loss: 0.1852 - mean_absolute_error: 0.3266 - val_loss: 0.1900 - val_mean_absolute_error: 0.3391\n",
      "Epoch 42/100\n",
      "9797/9797 [==============================] - 2s 160us/step - loss: 0.1821 - mean_absolute_error: 0.3232 - val_loss: 0.2041 - val_mean_absolute_error: 0.3691\n",
      "Epoch 43/100\n",
      "9797/9797 [==============================] - 2s 180us/step - loss: 0.1810 - mean_absolute_error: 0.3211 - val_loss: 0.1757 - val_mean_absolute_error: 0.3183\n",
      "Epoch 44/100\n",
      "9797/9797 [==============================] - 2s 163us/step - loss: 0.1814 - mean_absolute_error: 0.3237 - val_loss: 0.1956 - val_mean_absolute_error: 0.3354\n",
      "Epoch 45/100\n",
      "9797/9797 [==============================] - 2s 167us/step - loss: 0.1792 - mean_absolute_error: 0.3208 - val_loss: 0.1908 - val_mean_absolute_error: 0.3342\n",
      "Epoch 46/100\n",
      "9797/9797 [==============================] - 2s 173us/step - loss: 0.1778 - mean_absolute_error: 0.3197 - val_loss: 0.1846 - val_mean_absolute_error: 0.3237\n",
      "Epoch 47/100\n",
      "9797/9797 [==============================] - 1s 149us/step - loss: 0.1768 - mean_absolute_error: 0.3180 - val_loss: 0.1587 - val_mean_absolute_error: 0.2960\n",
      "Epoch 48/100\n",
      "9797/9797 [==============================] - 1s 144us/step - loss: 0.1763 - mean_absolute_error: 0.3190 - val_loss: 0.1375 - val_mean_absolute_error: 0.2638\n"
     ]
    },
    {
     "name": "stdout",
     "output_type": "stream",
     "text": [
      "Epoch 49/100\n",
      "9797/9797 [==============================] - 1s 134us/step - loss: 0.1744 - mean_absolute_error: 0.3174 - val_loss: 0.1445 - val_mean_absolute_error: 0.2688\n",
      "Epoch 50/100\n",
      "9797/9797 [==============================] - 1s 134us/step - loss: 0.1748 - mean_absolute_error: 0.3157 - val_loss: 0.1840 - val_mean_absolute_error: 0.3390\n",
      "Epoch 51/100\n",
      "9797/9797 [==============================] - 1s 136us/step - loss: 0.1707 - mean_absolute_error: 0.3107 - val_loss: 0.2024 - val_mean_absolute_error: 0.3496\n",
      "Epoch 52/100\n",
      "9797/9797 [==============================] - 1s 136us/step - loss: 0.1714 - mean_absolute_error: 0.3146 - val_loss: 0.1413 - val_mean_absolute_error: 0.2650\n",
      "Epoch 53/100\n",
      "9797/9797 [==============================] - 2s 162us/step - loss: 0.1723 - mean_absolute_error: 0.3141 - val_loss: 0.1836 - val_mean_absolute_error: 0.3324\n",
      "Epoch 54/100\n",
      "9797/9797 [==============================] - 2s 163us/step - loss: 0.1682 - mean_absolute_error: 0.3118 - val_loss: 0.1747 - val_mean_absolute_error: 0.3078\n",
      "Epoch 55/100\n",
      "9797/9797 [==============================] - 1s 151us/step - loss: 0.1663 - mean_absolute_error: 0.3086 - val_loss: 0.1594 - val_mean_absolute_error: 0.2980\n",
      "Epoch 56/100\n",
      "9797/9797 [==============================] - 1s 150us/step - loss: 0.1693 - mean_absolute_error: 0.3104 - val_loss: 0.1369 - val_mean_absolute_error: 0.2706\n",
      "Epoch 57/100\n",
      "9797/9797 [==============================] - 1s 148us/step - loss: 0.1662 - mean_absolute_error: 0.3082 - val_loss: 0.1922 - val_mean_absolute_error: 0.3386\n",
      "Epoch 58/100\n",
      "9797/9797 [==============================] - 1s 148us/step - loss: 0.1657 - mean_absolute_error: 0.3081 - val_loss: 0.1382 - val_mean_absolute_error: 0.2724\n",
      "Epoch 59/100\n",
      "9797/9797 [==============================] - 1s 139us/step - loss: 0.1644 - mean_absolute_error: 0.3054 - val_loss: 0.1471 - val_mean_absolute_error: 0.2687\n",
      "Epoch 60/100\n",
      "9797/9797 [==============================] - 1s 143us/step - loss: 0.1660 - mean_absolute_error: 0.3060 - val_loss: 0.1557 - val_mean_absolute_error: 0.2882\n",
      "Epoch 61/100\n",
      "9797/9797 [==============================] - 1s 138us/step - loss: 0.1654 - mean_absolute_error: 0.3060 - val_loss: 0.1596 - val_mean_absolute_error: 0.2987\n",
      "Epoch 62/100\n",
      "9797/9797 [==============================] - 1s 138us/step - loss: 0.1614 - mean_absolute_error: 0.3021 - val_loss: 0.1420 - val_mean_absolute_error: 0.2675\n",
      "Epoch 63/100\n",
      "9797/9797 [==============================] - 2s 155us/step - loss: 0.1615 - mean_absolute_error: 0.3036 - val_loss: 0.2296 - val_mean_absolute_error: 0.3955\n",
      "Epoch 64/100\n",
      "9797/9797 [==============================] - 2s 194us/step - loss: 0.1625 - mean_absolute_error: 0.3023 - val_loss: 0.1493 - val_mean_absolute_error: 0.2797\n",
      "Epoch 65/100\n",
      "9797/9797 [==============================] - 2s 187us/step - loss: 0.1583 - mean_absolute_error: 0.2999 - val_loss: 0.1697 - val_mean_absolute_error: 0.2949\n",
      "Epoch 66/100\n",
      "9797/9797 [==============================] - 2s 194us/step - loss: 0.1541 - mean_absolute_error: 0.2969 - val_loss: 0.1624 - val_mean_absolute_error: 0.3090\n",
      "Epoch 67/100\n",
      "9797/9797 [==============================] - 2s 195us/step - loss: 0.1587 - mean_absolute_error: 0.2991 - val_loss: 0.1803 - val_mean_absolute_error: 0.3241\n",
      "Epoch 68/100\n",
      "9797/9797 [==============================] - 2s 162us/step - loss: 0.1560 - mean_absolute_error: 0.2977 - val_loss: 0.1529 - val_mean_absolute_error: 0.2657\n",
      "Epoch 69/100\n",
      "9797/9797 [==============================] - 1s 149us/step - loss: 0.1578 - mean_absolute_error: 0.2996 - val_loss: 0.1445 - val_mean_absolute_error: 0.2648\n",
      "Epoch 70/100\n",
      "9797/9797 [==============================] - 2s 159us/step - loss: 0.1575 - mean_absolute_error: 0.2985 - val_loss: 0.1417 - val_mean_absolute_error: 0.2727\n",
      "Epoch 71/100\n",
      "9797/9797 [==============================] - 1s 149us/step - loss: 0.1578 - mean_absolute_error: 0.2982 - val_loss: 0.1481 - val_mean_absolute_error: 0.2751\n",
      "Epoch 72/100\n",
      "9797/9797 [==============================] - 1s 143us/step - loss: 0.1567 - mean_absolute_error: 0.2971 - val_loss: 0.2003 - val_mean_absolute_error: 0.3456\n",
      "Epoch 73/100\n",
      "9797/9797 [==============================] - 2s 155us/step - loss: 0.1538 - mean_absolute_error: 0.2939 - val_loss: 0.1379 - val_mean_absolute_error: 0.2679\n",
      "Epoch 74/100\n",
      "9797/9797 [==============================] - 2s 188us/step - loss: 0.1543 - mean_absolute_error: 0.2955 - val_loss: 0.1600 - val_mean_absolute_error: 0.2830\n",
      "Epoch 75/100\n",
      "9797/9797 [==============================] - 2s 177us/step - loss: 0.1507 - mean_absolute_error: 0.2940 - val_loss: 0.1621 - val_mean_absolute_error: 0.3060\n",
      "Epoch 76/100\n",
      "9797/9797 [==============================] - 2s 166us/step - loss: 0.1504 - mean_absolute_error: 0.2920 - val_loss: 0.1355 - val_mean_absolute_error: 0.2610\n",
      "Epoch 77/100\n",
      "9797/9797 [==============================] - 2s 159us/step - loss: 0.1536 - mean_absolute_error: 0.2935 - val_loss: 0.1574 - val_mean_absolute_error: 0.2956\n",
      "Epoch 78/100\n",
      "9797/9797 [==============================] - 2s 162us/step - loss: 0.1472 - mean_absolute_error: 0.2896 - val_loss: 0.1809 - val_mean_absolute_error: 0.3356\n",
      "Epoch 79/100\n",
      "9797/9797 [==============================] - 2s 158us/step - loss: 0.1475 - mean_absolute_error: 0.2880 - val_loss: 0.2076 - val_mean_absolute_error: 0.3700\n",
      "Epoch 80/100\n",
      "9797/9797 [==============================] - 1s 149us/step - loss: 0.1522 - mean_absolute_error: 0.2924 - val_loss: 0.1491 - val_mean_absolute_error: 0.2819\n",
      "Epoch 81/100\n",
      "9797/9797 [==============================] - 2s 159us/step - loss: 0.1497 - mean_absolute_error: 0.2897 - val_loss: 0.1496 - val_mean_absolute_error: 0.2720\n",
      "Epoch 82/100\n",
      "9797/9797 [==============================] - 2s 167us/step - loss: 0.1493 - mean_absolute_error: 0.2902 - val_loss: 0.1705 - val_mean_absolute_error: 0.3044\n",
      "Epoch 83/100\n",
      "9797/9797 [==============================] - 2s 179us/step - loss: 0.1512 - mean_absolute_error: 0.2910 - val_loss: 0.1529 - val_mean_absolute_error: 0.2996\n",
      "Epoch 84/100\n",
      "9797/9797 [==============================] - 2s 193us/step - loss: 0.1497 - mean_absolute_error: 0.2927 - val_loss: 0.1290 - val_mean_absolute_error: 0.2505\n",
      "Epoch 85/100\n",
      "9797/9797 [==============================] - 2s 193us/step - loss: 0.1467 - mean_absolute_error: 0.2883 - val_loss: 0.1397 - val_mean_absolute_error: 0.2719\n",
      "Epoch 86/100\n",
      "9797/9797 [==============================] - 2s 176us/step - loss: 0.1504 - mean_absolute_error: 0.2909 - val_loss: 0.1301 - val_mean_absolute_error: 0.2505\n",
      "Epoch 87/100\n",
      "9797/9797 [==============================] - 2s 183us/step - loss: 0.1471 - mean_absolute_error: 0.2897 - val_loss: 0.1461 - val_mean_absolute_error: 0.2788\n",
      "Epoch 88/100\n",
      "9797/9797 [==============================] - 2s 184us/step - loss: 0.1473 - mean_absolute_error: 0.2895 - val_loss: 0.1670 - val_mean_absolute_error: 0.2917\n",
      "Epoch 89/100\n",
      "9797/9797 [==============================] - 2s 196us/step - loss: 0.1490 - mean_absolute_error: 0.2887 - val_loss: 0.1401 - val_mean_absolute_error: 0.2584\n",
      "Epoch 90/100\n",
      "9797/9797 [==============================] - 2s 196us/step - loss: 0.1483 - mean_absolute_error: 0.2884 - val_loss: 0.1502 - val_mean_absolute_error: 0.2801\n",
      "Epoch 91/100\n",
      "9797/9797 [==============================] - 2s 192us/step - loss: 0.1496 - mean_absolute_error: 0.2897 - val_loss: 0.1304 - val_mean_absolute_error: 0.2489\n",
      "Epoch 92/100\n",
      "9797/9797 [==============================] - 2s 197us/step - loss: 0.1451 - mean_absolute_error: 0.2861 - val_loss: 0.1397 - val_mean_absolute_error: 0.2681\n",
      "Epoch 93/100\n",
      "9797/9797 [==============================] - 2s 197us/step - loss: 0.1469 - mean_absolute_error: 0.2862 - val_loss: 0.1365 - val_mean_absolute_error: 0.2673\n",
      "Epoch 94/100\n",
      "9797/9797 [==============================] - 2s 184us/step - loss: 0.1488 - mean_absolute_error: 0.2880 - val_loss: 0.1359 - val_mean_absolute_error: 0.2488\n",
      "Epoch 95/100\n",
      "9797/9797 [==============================] - 2s 182us/step - loss: 0.1430 - mean_absolute_error: 0.2840 - val_loss: 0.1485 - val_mean_absolute_error: 0.2781\n",
      "Epoch 96/100\n",
      "9797/9797 [==============================] - 2s 181us/step - loss: 0.1446 - mean_absolute_error: 0.2853 - val_loss: 0.1394 - val_mean_absolute_error: 0.2766\n",
      "Epoch 97/100\n"
     ]
    },
    {
     "name": "stdout",
     "output_type": "stream",
     "text": [
      "9797/9797 [==============================] - 1s 144us/step - loss: 0.1406 - mean_absolute_error: 0.2795 - val_loss: 0.1688 - val_mean_absolute_error: 0.3152\n",
      "Epoch 98/100\n",
      "9797/9797 [==============================] - 1s 137us/step - loss: 0.1398 - mean_absolute_error: 0.2799 - val_loss: 0.1523 - val_mean_absolute_error: 0.2867\n",
      "Epoch 99/100\n",
      "9797/9797 [==============================] - 1s 138us/step - loss: 0.1423 - mean_absolute_error: 0.2819 - val_loss: 0.1392 - val_mean_absolute_error: 0.2675\n",
      "Epoch 100/100\n",
      "9797/9797 [==============================] - 1s 137us/step - loss: 0.1434 - mean_absolute_error: 0.2835 - val_loss: 0.1542 - val_mean_absolute_error: 0.2778\n"
     ]
    }
   ],
   "source": [
    "history = model.fit(x=X_trainNN, y=Y_trainNN, batch_size=BATCH_SIZE, epochs=EPOCHS, \n",
    "                    verbose=1, validation_data=(X_validNN, Y_validNN), \n",
    "                    shuffle=True)"
   ]
  },
  {
   "cell_type": "code",
   "execution_count": 27,
   "metadata": {},
   "outputs": [],
   "source": [
    "training_loss = history.history['loss']\n",
    "test_loss = history.history['val_loss']"
   ]
  },
  {
   "cell_type": "code",
   "execution_count": 28,
   "metadata": {},
   "outputs": [],
   "source": [
    "training_accuracy = history.history['mean_absolute_error']\n",
    "test_accuracy = history.history['val_mean_absolute_error']"
   ]
  },
  {
   "cell_type": "code",
   "execution_count": 29,
   "metadata": {},
   "outputs": [
    {
     "name": "stdout",
     "output_type": "stream",
     "text": [
      "1089/1089 [==============================] - 0s 212us/step\n",
      "mse=0.154205, mae=0.277753, rmsle=0.123777\n"
     ]
    }
   ],
   "source": [
    "from sklearn import metrics\n",
    "predic= model.predict(X_validNN, batch_size=BATCH_SIZE, verbose=1)\n",
    "mseNN = metrics.mean_squared_error(Y_validNN, predic)\n",
    "maeNN = metrics.mean_absolute_error(Y_validNN, predic)\n",
    "rmsleNN = np.sqrt(metrics.mean_squared_log_error(Y_validNN, predic))\n",
    "#mape = metrics.mean_absolute_percentage_error(Y_validNN, predic)\n",
    "print('mse=%f, mae=%f, rmsle=%f' % (mseNN,maeNN,rmsleNN))"
   ]
  },
  {
   "cell_type": "code",
   "execution_count": 30,
   "metadata": {},
   "outputs": [
    {
     "name": "stdout",
     "output_type": "stream",
     "text": [
      "dict_keys(['val_loss', 'val_mean_absolute_error', 'loss', 'mean_absolute_error'])\n"
     ]
    },
    {
     "data": {
      "image/png": "[encoded data removed]",
      "text/plain": [
       "<matplotlib.figure.Figure at 0x205b5995f60>"
      ]
     },
     "metadata": {},
     "output_type": "display_data"
    },
    {
     "data": {
      "image/png": "[encoded data removed]",
      "text/plain": [
       "<matplotlib.figure.Figure at 0x205b59c6ac8>"
      ]
     },
     "metadata": {},
     "output_type": "display_data"
    }
   ],
   "source": [
    "# list all data in history\n",
    "print(history.history.keys())\n",
    "\n",
    "# Create count of the number of epochs\n",
    "nbepocs = range(1, len(training_loss) + 1)\n",
    "\n",
    "# summarize history for accuracy\n",
    "plt.plot(nbepocs,training_accuracy,'r--')\n",
    "plt.plot(nbepocs,test_accuracy, 'b-')\n",
    "plt.title('model accuracy')\n",
    "plt.ylabel('accuracy')\n",
    "plt.xlabel('epoch')\n",
    "plt.legend(['MAE train', 'MAE test'], loc='upper left')\n",
    "plt.show()\n",
    "\n",
    "# summarize history for loss\n",
    "plt.plot(nbepocs,training_loss,'r--')\n",
    "plt.plot(nbepocs,test_loss, 'b-')\n",
    "plt.title('model loss')\n",
    "plt.ylabel('loss')\n",
    "plt.xlabel('epoch')\n",
    "plt.legend(['train', 'test'], loc='upper left')\n",
    "plt.show()"
   ]
  },
  {
   "cell_type": "code",
   "execution_count": 31,
   "metadata": {},
   "outputs": [
    {
     "name": "stdout",
     "output_type": "stream",
     "text": [
      "6493/6493 [==============================] - 0s 33us/step\n"
     ]
    }
   ],
   "source": [
    "# genere une prediction\n",
    "prediction = model.predict(X_testNN, batch_size=BATCH_SIZE, verbose=1)"
   ]
  },
  {
   "cell_type": "markdown",
   "metadata": {},
   "source": [
    "### Pour confronter le modèle sur Kaggle"
   ]
  },
  {
   "cell_type": "code",
   "execution_count": 33,
   "metadata": {},
   "outputs": [
    {
     "name": "stdout",
     "output_type": "stream",
     "text": [
      "Saved file: Bike Sharing_NN.csv\n"
     ]
    }
   ],
   "source": [
    "prediction=[float(i) for i in prediction]\n",
    "submission = pd.DataFrame({'datetime':df_bike_test['datetime'],'count':prediction})\n",
    "#submission[\"count\"] = submission[\"count\"].astype(int)\n",
    "#print(submission)\n",
    "submission[\"count\"]=np.exp(submission[\"count\"])\n",
    "cpt_row=0\n",
    "for row_submisson in submission[\"count\"]:\n",
    "        #print(submission.loc[[cpt_row], ['count']])\n",
    "    #submission.loc[[cpt_row], ['count']]=submission.loc[[cpt_row], ['count']]\n",
    "    if row_submisson<0 :\n",
    "            submission.loc[[cpt_row], ['count']]=0\n",
    "    cpt_row=cpt_row+1\n",
    " \n",
    "filename = 'Bike Sharing_NN.csv'\n",
    "submission.to_csv(filename,index=False)\n",
    "print('Saved file: ' + filename)"
   ]
  },
  {
   "cell_type": "markdown",
   "metadata": {},
   "source": [
    "## Fonctions utiles"
   ]
  },
  {
   "cell_type": "code",
   "execution_count": 34,
   "metadata": {},
   "outputs": [],
   "source": [
    "lst_mae_score=[]\n",
    "lst_mae_score.append('MAE')\n",
    "lst_mse_score=[]\n",
    "lst_mse_score.append('MSE')\n",
    "lst_rmsle_score=[]\n",
    "lst_rmsle_score.append('RMSLE')"
   ]
  },
  {
   "cell_type": "code",
   "execution_count": 35,
   "metadata": {},
   "outputs": [],
   "source": [
    "def rmsle_score(preds, true):\n",
    "    rmsle_score = (np.sum((np.log1p(preds)-np.log1p(true))**2)/len(true))**0.5\n",
    "    return rmsle_score"
   ]
  },
  {
   "cell_type": "code",
   "execution_count": 36,
   "metadata": {},
   "outputs": [],
   "source": [
    "from sklearn.metrics.scorer import make_scorer\n",
    "\n",
    "RMSLE2 = make_scorer(rmsle_score)"
   ]
  },
  {
   "cell_type": "code",
   "execution_count": 37,
   "metadata": {},
   "outputs": [],
   "source": [
    "df_train, df_test = skl_model_selection.train_test_split(df_combine[0])\n",
    "#print(df_combine[0].head(2))\n",
    "X=df_combine[0].iloc[:, 2:27]\n",
    "Y =df_combine[0][\"count\"]\n",
    "df_train = df_train.reset_index(drop=True)\n",
    "df_test = df_test.reset_index(drop=True)\n",
    "\n",
    "# On split le dataset en train-set et test-set\n",
    "X_train = df_train.iloc[:, 2:27] #27 car 28 et 29 features spécifiques à casuals et registered\n",
    "#Y_train = df_train[\"Target\"]\n",
    "Y_train = df_train[\"count\"]\n",
    "#print(df_train.head())\n",
    "X_test = df_test.iloc[:, 2:27] #27 car 28 et 29 features spécifiques à casuals et registered\n",
    "#Y_test = df_test[\"Target\"]\n",
    "Y_test = df_test[\"count\"]\n"
   ]
  },
  {
   "cell_type": "code",
   "execution_count": 38,
   "metadata": {},
   "outputs": [],
   "source": [
    "def format_e(n):\n",
    "    n=abs(n)\n",
    "    a = '%E' % n\n",
    "    return str(round(float(a.split('E')[0].rstrip('0').rstrip('.')),2)) + 'E' + a.split('E')[1]"
   ]
  },
  {
   "cell_type": "markdown",
   "metadata": {},
   "source": [
    "## Comparaison des différents modèles"
   ]
  },
  {
   "cell_type": "code",
   "execution_count": 39,
   "metadata": {},
   "outputs": [
    {
     "name": "stderr",
     "output_type": "stream",
     "text": [
      "C:\\Users\\Alexandre\\Anaconda3\\lib\\site-packages\\sklearn\\ensemble\\forest.py:248: FutureWarning: The default value of n_estimators will change from 10 in version 0.20 to 100 in 0.22.\n",
      "  \"10 in version 0.20 to 100 in 0.22.\", FutureWarning)\n",
      "C:\\Users\\Alexandre\\Anaconda3\\lib\\site-packages\\sklearn\\ensemble\\forest.py:248: FutureWarning: The default value of n_estimators will change from 10 in version 0.20 to 100 in 0.22.\n",
      "  \"10 in version 0.20 to 100 in 0.22.\", FutureWarning)\n",
      "C:\\Users\\Alexandre\\Anaconda3\\lib\\site-packages\\sklearn\\ensemble\\forest.py:248: FutureWarning: The default value of n_estimators will change from 10 in version 0.20 to 100 in 0.22.\n",
      "  \"10 in version 0.20 to 100 in 0.22.\", FutureWarning)\n",
      "C:\\Users\\Alexandre\\Anaconda3\\lib\\site-packages\\sklearn\\ensemble\\forest.py:248: FutureWarning: The default value of n_estimators will change from 10 in version 0.20 to 100 in 0.22.\n",
      "  \"10 in version 0.20 to 100 in 0.22.\", FutureWarning)\n",
      "C:\\Users\\Alexandre\\Anaconda3\\lib\\site-packages\\sklearn\\ensemble\\forest.py:248: FutureWarning: The default value of n_estimators will change from 10 in version 0.20 to 100 in 0.22.\n",
      "  \"10 in version 0.20 to 100 in 0.22.\", FutureWarning)\n",
      "C:\\Users\\Alexandre\\Anaconda3\\lib\\site-packages\\sklearn\\ensemble\\forest.py:248: FutureWarning: The default value of n_estimators will change from 10 in version 0.20 to 100 in 0.22.\n",
      "  \"10 in version 0.20 to 100 in 0.22.\", FutureWarning)\n",
      "C:\\Users\\Alexandre\\Anaconda3\\lib\\site-packages\\sklearn\\ensemble\\forest.py:248: FutureWarning: The default value of n_estimators will change from 10 in version 0.20 to 100 in 0.22.\n",
      "  \"10 in version 0.20 to 100 in 0.22.\", FutureWarning)\n",
      "C:\\Users\\Alexandre\\Anaconda3\\lib\\site-packages\\sklearn\\ensemble\\forest.py:248: FutureWarning: The default value of n_estimators will change from 10 in version 0.20 to 100 in 0.22.\n",
      "  \"10 in version 0.20 to 100 in 0.22.\", FutureWarning)\n",
      "C:\\Users\\Alexandre\\Anaconda3\\lib\\site-packages\\sklearn\\ensemble\\forest.py:248: FutureWarning: The default value of n_estimators will change from 10 in version 0.20 to 100 in 0.22.\n",
      "  \"10 in version 0.20 to 100 in 0.22.\", FutureWarning)\n",
      "C:\\Users\\Alexandre\\Anaconda3\\lib\\site-packages\\sklearn\\ensemble\\forest.py:248: FutureWarning: The default value of n_estimators will change from 10 in version 0.20 to 100 in 0.22.\n",
      "  \"10 in version 0.20 to 100 in 0.22.\", FutureWarning)\n",
      "C:\\Users\\Alexandre\\Anaconda3\\lib\\site-packages\\sklearn\\ensemble\\forest.py:248: FutureWarning: The default value of n_estimators will change from 10 in version 0.20 to 100 in 0.22.\n",
      "  \"10 in version 0.20 to 100 in 0.22.\", FutureWarning)\n",
      "C:\\Users\\Alexandre\\Anaconda3\\lib\\site-packages\\sklearn\\ensemble\\forest.py:248: FutureWarning: The default value of n_estimators will change from 10 in version 0.20 to 100 in 0.22.\n",
      "  \"10 in version 0.20 to 100 in 0.22.\", FutureWarning)\n",
      "C:\\Users\\Alexandre\\Anaconda3\\lib\\site-packages\\sklearn\\ensemble\\forest.py:248: FutureWarning: The default value of n_estimators will change from 10 in version 0.20 to 100 in 0.22.\n",
      "  \"10 in version 0.20 to 100 in 0.22.\", FutureWarning)\n",
      "C:\\Users\\Alexandre\\Anaconda3\\lib\\site-packages\\sklearn\\ensemble\\forest.py:248: FutureWarning: The default value of n_estimators will change from 10 in version 0.20 to 100 in 0.22.\n",
      "  \"10 in version 0.20 to 100 in 0.22.\", FutureWarning)\n",
      "C:\\Users\\Alexandre\\Anaconda3\\lib\\site-packages\\sklearn\\ensemble\\forest.py:248: FutureWarning: The default value of n_estimators will change from 10 in version 0.20 to 100 in 0.22.\n",
      "  \"10 in version 0.20 to 100 in 0.22.\", FutureWarning)\n"
     ]
    }
   ],
   "source": [
    "\n",
    "from sklearn.ensemble import RandomForestRegressor \n",
    "from sklearn import metrics\n",
    "RFR= RandomForestRegressor()\n",
    "model=RFR\n",
    "#score=cross_val_score(RFR, X, Y, cv=5, scoring='mean_squared_error')\n",
    "lst_mse_score.append(format_e(cross_val_score(model, X, Y, cv=5, scoring='neg_mean_squared_error').mean()))\n",
    "lst_mae_score.append(format_e(cross_val_score(model, X, Y, cv=5, scoring='neg_median_absolute_error').mean()))\n",
    "lst_rmsle_score.append(format_e(cross_val_score(model, X, Y, cv=5, scoring='neg_mean_squared_log_error').mean()))\n"
   ]
  },
  {
   "cell_type": "code",
   "execution_count": null,
   "metadata": {},
   "outputs": [],
   "source": []
  },
  {
   "cell_type": "code",
   "execution_count": 40,
   "metadata": {},
   "outputs": [
    {
     "name": "stderr",
     "output_type": "stream",
     "text": [
      "C:\\Users\\Alexandre\\Anaconda3\\lib\\site-packages\\sklearn\\svm\\base.py:196: FutureWarning: The default value of gamma will change from 'auto' to 'scale' in version 0.22 to account better for unscaled features. Set gamma explicitly to 'auto' or 'scale' to avoid this warning.\n",
      "  \"avoid this warning.\", FutureWarning)\n",
      "C:\\Users\\Alexandre\\Anaconda3\\lib\\site-packages\\sklearn\\svm\\base.py:196: FutureWarning: The default value of gamma will change from 'auto' to 'scale' in version 0.22 to account better for unscaled features. Set gamma explicitly to 'auto' or 'scale' to avoid this warning.\n",
      "  \"avoid this warning.\", FutureWarning)\n",
      "C:\\Users\\Alexandre\\Anaconda3\\lib\\site-packages\\sklearn\\svm\\base.py:196: FutureWarning: The default value of gamma will change from 'auto' to 'scale' in version 0.22 to account better for unscaled features. Set gamma explicitly to 'auto' or 'scale' to avoid this warning.\n",
      "  \"avoid this warning.\", FutureWarning)\n",
      "C:\\Users\\Alexandre\\Anaconda3\\lib\\site-packages\\sklearn\\svm\\base.py:196: FutureWarning: The default value of gamma will change from 'auto' to 'scale' in version 0.22 to account better for unscaled features. Set gamma explicitly to 'auto' or 'scale' to avoid this warning.\n",
      "  \"avoid this warning.\", FutureWarning)\n",
      "C:\\Users\\Alexandre\\Anaconda3\\lib\\site-packages\\sklearn\\svm\\base.py:196: FutureWarning: The default value of gamma will change from 'auto' to 'scale' in version 0.22 to account better for unscaled features. Set gamma explicitly to 'auto' or 'scale' to avoid this warning.\n",
      "  \"avoid this warning.\", FutureWarning)\n",
      "C:\\Users\\Alexandre\\Anaconda3\\lib\\site-packages\\sklearn\\svm\\base.py:196: FutureWarning: The default value of gamma will change from 'auto' to 'scale' in version 0.22 to account better for unscaled features. Set gamma explicitly to 'auto' or 'scale' to avoid this warning.\n",
      "  \"avoid this warning.\", FutureWarning)\n",
      "C:\\Users\\Alexandre\\Anaconda3\\lib\\site-packages\\sklearn\\svm\\base.py:196: FutureWarning: The default value of gamma will change from 'auto' to 'scale' in version 0.22 to account better for unscaled features. Set gamma explicitly to 'auto' or 'scale' to avoid this warning.\n",
      "  \"avoid this warning.\", FutureWarning)\n",
      "C:\\Users\\Alexandre\\Anaconda3\\lib\\site-packages\\sklearn\\svm\\base.py:196: FutureWarning: The default value of gamma will change from 'auto' to 'scale' in version 0.22 to account better for unscaled features. Set gamma explicitly to 'auto' or 'scale' to avoid this warning.\n",
      "  \"avoid this warning.\", FutureWarning)\n",
      "C:\\Users\\Alexandre\\Anaconda3\\lib\\site-packages\\sklearn\\svm\\base.py:196: FutureWarning: The default value of gamma will change from 'auto' to 'scale' in version 0.22 to account better for unscaled features. Set gamma explicitly to 'auto' or 'scale' to avoid this warning.\n",
      "  \"avoid this warning.\", FutureWarning)\n",
      "C:\\Users\\Alexandre\\Anaconda3\\lib\\site-packages\\sklearn\\svm\\base.py:196: FutureWarning: The default value of gamma will change from 'auto' to 'scale' in version 0.22 to account better for unscaled features. Set gamma explicitly to 'auto' or 'scale' to avoid this warning.\n",
      "  \"avoid this warning.\", FutureWarning)\n",
      "C:\\Users\\Alexandre\\Anaconda3\\lib\\site-packages\\sklearn\\svm\\base.py:196: FutureWarning: The default value of gamma will change from 'auto' to 'scale' in version 0.22 to account better for unscaled features. Set gamma explicitly to 'auto' or 'scale' to avoid this warning.\n",
      "  \"avoid this warning.\", FutureWarning)\n",
      "C:\\Users\\Alexandre\\Anaconda3\\lib\\site-packages\\sklearn\\svm\\base.py:196: FutureWarning: The default value of gamma will change from 'auto' to 'scale' in version 0.22 to account better for unscaled features. Set gamma explicitly to 'auto' or 'scale' to avoid this warning.\n",
      "  \"avoid this warning.\", FutureWarning)\n",
      "C:\\Users\\Alexandre\\Anaconda3\\lib\\site-packages\\sklearn\\svm\\base.py:196: FutureWarning: The default value of gamma will change from 'auto' to 'scale' in version 0.22 to account better for unscaled features. Set gamma explicitly to 'auto' or 'scale' to avoid this warning.\n",
      "  \"avoid this warning.\", FutureWarning)\n",
      "C:\\Users\\Alexandre\\Anaconda3\\lib\\site-packages\\sklearn\\svm\\base.py:196: FutureWarning: The default value of gamma will change from 'auto' to 'scale' in version 0.22 to account better for unscaled features. Set gamma explicitly to 'auto' or 'scale' to avoid this warning.\n",
      "  \"avoid this warning.\", FutureWarning)\n",
      "C:\\Users\\Alexandre\\Anaconda3\\lib\\site-packages\\sklearn\\svm\\base.py:196: FutureWarning: The default value of gamma will change from 'auto' to 'scale' in version 0.22 to account better for unscaled features. Set gamma explicitly to 'auto' or 'scale' to avoid this warning.\n",
      "  \"avoid this warning.\", FutureWarning)\n"
     ]
    }
   ],
   "source": [
    "from sklearn.svm import SVR\n",
    "model=SVR()\n",
    "#lR = LogisticRegression()\n",
    "\n",
    "lst_mse_score.append(format_e(cross_val_score(model, X, Y, cv=5, scoring='neg_mean_squared_error').mean()))\n",
    "lst_mae_score.append(format_e(cross_val_score(model, X, Y, cv=5, scoring='neg_median_absolute_error').mean()))\n",
    "lst_rmsle_score.append(format_e(cross_val_score(model, X, Y, cv=5, scoring='neg_mean_squared_log_error').mean()))\n"
   ]
  },
  {
   "cell_type": "code",
   "execution_count": 41,
   "metadata": {},
   "outputs": [],
   "source": [
    "from sklearn import mixture\n",
    "from sklearn.mixture import GaussianMixture\n",
    "#lm=LinearRegression()\n",
    "model = GaussianMixture()\n",
    "lst_mse_score.append(format_e(cross_val_score(model, X, Y, cv=5, scoring='neg_mean_squared_error').mean()))\n",
    "lst_mae_score.append(format_e(cross_val_score(model, X, Y, cv=5, scoring='neg_median_absolute_error').mean()))\n",
    "lst_rmsle_score.append(format_e(cross_val_score(model, X, Y, cv=5, scoring='neg_mean_squared_log_error').mean()))\n"
   ]
  },
  {
   "cell_type": "code",
   "execution_count": 42,
   "metadata": {},
   "outputs": [],
   "source": [
    "from sklearn.ensemble import AdaBoostRegressor\n",
    "model = AdaBoostRegressor()\n",
    "#score=cross_val_score(RFR, X, Y, cv=5, scoring='mean_squared_error')\n",
    "lst_mse_score.append(format_e(cross_val_score(model, X, Y, cv=5, scoring='neg_mean_squared_error').mean()))\n",
    "lst_mae_score.append(format_e(cross_val_score(model, X, Y, cv=5, scoring='neg_median_absolute_error').mean()))\n",
    "lst_rmsle_score.append(format_e(cross_val_score(model, X, Y, cv=5, scoring='neg_mean_squared_log_error').mean()))\n"
   ]
  },
  {
   "cell_type": "code",
   "execution_count": 43,
   "metadata": {},
   "outputs": [],
   "source": [
    "##NN score:\n",
    "lst_mse_score.append(round(mseNN,2))\n",
    "lst_mae_score.append(round(maeNN,2))\n",
    "lst_rmsle_score.append(round(rmsleNN,2))"
   ]
  },
  {
   "cell_type": "code",
   "execution_count": 44,
   "metadata": {},
   "outputs": [
    {
     "name": "stdout",
     "output_type": "stream",
     "text": [
      "+-------+-----------------------+---------------+-----------------+-------------------+----------------+\n",
      "|       | RandomForestRegressor | SVM Regressor | GaussianMixture | AdaBoostRegressor | NeuralNetworks |\n",
      "+-------+-----------------------+---------------+-----------------+-------------------+----------------+\n",
      "|  MSE  |        6.4E-06        |    1.96E+00   |     2.29E+01    |      2.4E-02      |      0.15      |\n",
      "|  MAE  |        8.44E-16       |    8.46E-01   |     5.0E+00     |      1.09E-01     |      0.28      |\n",
      "| RMSLE |        9.31E-08       |    1.21E-01   |     2.89E+00    |      2.25E-03     |      0.12      |\n",
      "+-------+-----------------------+---------------+-----------------+-------------------+----------------+\n"
     ]
    }
   ],
   "source": [
    "from prettytable import PrettyTable\n",
    "t = PrettyTable(['    ','RandomForestRegressor','SVM Regressor','GaussianMixture','AdaBoostRegressor', 'NeuralNetworks'])\n",
    "t.add_row(lst_mse_score)\n",
    "t.add_row(lst_mae_score)\n",
    "t.add_row(lst_rmsle_score)\n",
    "print(t)"
   ]
  },
  {
   "cell_type": "markdown",
   "metadata": {},
   "source": [
    "## Pour Kaggle:"
   ]
  },
  {
   "cell_type": "code",
   "execution_count": 45,
   "metadata": {},
   "outputs": [],
   "source": [
    "X=df_combine[0]\n",
    "Y =df_combine[0][\"count\"]\n",
    "#on  définie les features qui vont être intéressants pour la prédiction\n",
    "features=X.columns.values\n",
    "features=list(features)\n",
    "features.remove(\"datetime\")\n",
    "features.remove(\"daypart_casual\")\n",
    "features.remove(\"daypart_registered\")\n",
    "features.remove(\"casual\")\n",
    "features.remove(\"registered\")\n",
    "features.remove(\"count\")\n",
    "\n",
    "X_train = df_combine[0]\n",
    "Y_train = df_combine[0][\"count\"]\n",
    "X_test = df_combine[1]"
   ]
  },
  {
   "cell_type": "code",
   "execution_count": 47,
   "metadata": {},
   "outputs": [
    {
     "name": "stderr",
     "output_type": "stream",
     "text": [
      "C:\\Users\\Alexandre\\Anaconda3\\lib\\site-packages\\sklearn\\ensemble\\forest.py:248: FutureWarning: The default value of n_estimators will change from 10 in version 0.20 to 100 in 0.22.\n",
      "  \"10 in version 0.20 to 100 in 0.22.\", FutureWarning)\n"
     ]
    },
    {
     "name": "stdout",
     "output_type": "stream",
     "text": [
      "Saved file: Bike Sharing.csv\n"
     ]
    }
   ],
   "source": [
    "RFR= RandomForestRegressor()\n",
    "RFR.fit(X_train[features],Y_train)\n",
    "pred = RFR.predict(X_test[features])\n",
    "submission = pd.DataFrame({'datetime':df_bike_test['datetime'],'count':pred})\n",
    "#submission[\"count\"] = submission[\"count\"].astype(int)\n",
    "#print(submission)\n",
    "submission[\"count\"]=np.exp(submission[\"count\"])\n",
    "cpt_row=0\n",
    "for row_submisson in submission[\"count\"]:\n",
    "        #print(submission.loc[[cpt_row], ['count']])\n",
    "    #submission.loc[[cpt_row], ['count']]=submission.loc[[cpt_row], ['count']]\n",
    "    if row_submisson<0 :\n",
    "            submission.loc[[cpt_row], ['count']]=0\n",
    "    cpt_row=cpt_row+1\n",
    " \n",
    "filename = 'Bike Sharing.csv'\n",
    "submission.to_csv(filename,index=False)\n",
    "print('Saved file: ' + filename)"
   ]
  },
  {
   "cell_type": "markdown",
   "metadata": {},
   "source": [
    "## Si on distingue registered et casuals comme vu dans le train set"
   ]
  },
  {
   "cell_type": "code",
   "execution_count": 48,
   "metadata": {},
   "outputs": [],
   "source": [
    "df_train, df_test = skl_model_selection.train_test_split(df_combine[0])\n",
    "#print(df_combine[0].head(2))\n",
    "X=df_combine[0]\n",
    "Y =df_combine[0][\"count\"]\n",
    "df_train = df_train.reset_index(drop=True)\n",
    "df_test = df_test.reset_index(drop=True)"
   ]
  },
  {
   "cell_type": "code",
   "execution_count": 49,
   "metadata": {},
   "outputs": [],
   "source": [
    "features_casual=X.columns.values\n",
    "features_registered=X.columns.values\n",
    "features_casual=list(features_casual)\n",
    "features_registered=list(features_registered)\n",
    "features_casual.remove(\"datetime\")\n",
    "features_registered.remove(\"datetime\")\n",
    "features_casual.remove(\"registered\")\n",
    "features_registered.remove(\"registered\")\n",
    "features_casual.remove(\"casual\")\n",
    "features_registered.remove(\"casual\")\n",
    "features_casual.remove(\"count\")\n",
    "features_registered.remove(\"count\")\n",
    "features_casual.remove(\"daypart_registered\")\n",
    "features_registered.remove(\"daypart_casual\")"
   ]
  },
  {
   "cell_type": "code",
   "execution_count": 50,
   "metadata": {},
   "outputs": [],
   "source": [
    "X_cas=X_train[features_casual]\n",
    "Y_cas=X_train['casual']\n",
    "X_testcas=X_test[features_casual]\n",
    "X_reg=X_train[features_registered]\n",
    "Y_reg=X_train['registered']\n",
    "X_testreg=X_test[features_registered]"
   ]
  },
  {
   "cell_type": "code",
   "execution_count": 51,
   "metadata": {},
   "outputs": [],
   "source": [
    "from sklearn.model_selection import train_test_split\n",
    "\n",
    "X_trainreg, X_validreg, Y_trainreg, Y_validreg = train_test_split(X_reg, Y_reg, test_size=0.10, random_state=1)\n",
    "X_traincas, X_validcas, Y_traincas, Y_validcas = train_test_split(X_cas, Y_cas, test_size=0.10, random_state=1)"
   ]
  },
  {
   "cell_type": "code",
   "execution_count": 52,
   "metadata": {},
   "outputs": [],
   "source": [
    "#normalisation:\n",
    "from sklearn.preprocessing import StandardScaler"
   ]
  },
  {
   "cell_type": "markdown",
   "metadata": {},
   "source": [
    "#### Utilisation de Randomforest en séparant casual et registered et soumission sur Kaggle"
   ]
  },
  {
   "cell_type": "code",
   "execution_count": 54,
   "metadata": {},
   "outputs": [
    {
     "name": "stderr",
     "output_type": "stream",
     "text": [
      "C:\\Users\\Alexandre\\Anaconda3\\lib\\site-packages\\sklearn\\ensemble\\forest.py:248: FutureWarning: The default value of n_estimators will change from 10 in version 0.20 to 100 in 0.22.\n",
      "  \"10 in version 0.20 to 100 in 0.22.\", FutureWarning)\n"
     ]
    },
    {
     "name": "stdout",
     "output_type": "stream",
     "text": [
      "Saved file: Bike Sharingregcas.csv\n"
     ]
    }
   ],
   "source": [
    "from sklearn.ensemble import RandomForestRegressor \n",
    "from sklearn.svm import SVR\n",
    "\n",
    "#avec randomforest\n",
    "model= RandomForestRegressor()\n",
    "model.fit(X_trainreg,Y_trainreg)\n",
    "predreg = model.predict(X_testreg)\n",
    "\n",
    "model.fit(X_traincas,Y_traincas)\n",
    "predcas = model.predict(X_testcas)\n",
    "\n",
    "pred=np.exp(predreg)+np.exp(predcas)\n",
    "submission = pd.DataFrame({'datetime':df_bike_test['datetime'],'count':pred})\n",
    "\n",
    "submission[\"count\"]=submission[\"count\"]\n",
    "cpt_row=0\n",
    "for row_submisson in submission[\"count\"]:\n",
    "    if row_submisson<0 :\n",
    "            submission.loc[[cpt_row], ['count']]=0\n",
    "    cpt_row=cpt_row+1\n",
    "    \n",
    "filename = 'Bike Sharingregcas.csv'\n",
    "submission.to_csv(filename,index=False)\n",
    "print('Saved file: ' + filename)"
   ]
  },
  {
   "cell_type": "code",
   "execution_count": null,
   "metadata": {},
   "outputs": [],
   "source": []
  }
 ],
 "metadata": {
  "kernelspec": {
   "display_name": "Python 3",
   "language": "python",
   "name": "python3"
  },
  "language_info": {
   "codemirror_mode": {
    "name": "ipython",
    "version": 3
   },
   "file_extension": ".py",
   "mimetype": "text/x-python",
   "name": "python",
   "nbconvert_exporter": "python",
   "pygments_lexer": "ipython3",
   "version": "3.6.4"
  }
 },
 "nbformat": 4,
 "nbformat_minor": 2
}
